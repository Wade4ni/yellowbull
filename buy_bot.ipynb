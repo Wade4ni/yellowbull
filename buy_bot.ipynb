{
 "cells": [
  {
   "cell_type": "markdown",
   "id": "8cac5eb8",
   "metadata": {},
   "source": [
    "# 初次使用請先進行以下程式"
   ]
  },
  {
   "cell_type": "code",
   "execution_count": null,
   "id": "61a26fb1",
   "metadata": {},
   "outputs": [],
   "source": [
    "import os\n",
    "import json, time\n",
    "from selenium import webdriver\n",
    "from webdriver_manager.chrome import ChromeDriverManager\n",
    "\n",
    "# 參考https://reurl.cc/vd1nmA\n",
    "driver = webdriver.Chrome(ChromeDriverManager().install())\n",
    "driver.get('https://www.momoshop.com.tw/main/Main.jsp')\n",
    "\n",
    "# 初次使用立馬跳出登入，紀錄使用者資訊，之後刷新可自動登入\n",
    "driver.find_element_by_link_text('登入').click()\n",
    "# 等待15秒讓使用者登入\n",
    "time.sleep(15)\n",
    "# 紀錄登入資訊(使用請先登入後再執行此段程式)\n",
    "cookie = driver.get_cookies()\n",
    "with open('login_info.json', 'w') as f:\n",
    "    f.write(json.dumps(cookie))\n",
    "\n",
    "time.sleep(5)\n",
    "driver.quit()"
   ]
  },
  {
   "cell_type": "markdown",
   "id": "65c0e4b6",
   "metadata": {},
   "source": [
    "# 程式下單"
   ]
  },
  {
   "cell_type": "code",
   "execution_count": null,
   "id": "c47bf86d",
   "metadata": {},
   "outputs": [],
   "source": [
    "import os\n",
    "import json, time\n",
    "from selenium import webdriver\n",
    "from webdriver_manager.chrome import ChromeDriverManager\n",
    "\n",
    "def buy_bot(url):\n",
    "    driver.get(url)\n",
    "    driver.find_element_by_css_selector('.buynow').click()\n",
    "    driver.find_element_by_css_selector('#checkoutBar > tbody > tr > td.checkoutButton.selected > a').click()\n",
    "    driver.find_element_by_css_selector('#payment03').click()\n",
    "    driver.find_element_by_css_selector('#orderSave')\n",
    "\n",
    "what_do_you_want = input('請輸入想要購買的商品網址(Momo):')\n",
    "\n",
    "driver = webdriver.Chrome(ChromeDriverManager().install())\n",
    "driver.get('https://www.momoshop.com.tw/main/Main.jsp')\n",
    "\n",
    "# 讀取cookie\n",
    "with open('login_info.json', 'r') as f:\n",
    "    data = json.loads(f.read())\n",
    "# 使用cookie登入瀏覽器\n",
    "for i in data:\n",
    "    driver.add_cookie(i)\n",
    "# 刷新瀏覽器\n",
    "driver.refresh()\n",
    "\n",
    "buy_bot(what_do_you_want)"
   ]
  }
 ],
 "metadata": {
  "kernelspec": {
   "display_name": "Python 3 (ipykernel)",
   "language": "python",
   "name": "python3"
  },
  "language_info": {
   "codemirror_mode": {
    "name": "ipython",
    "version": 3
   },
   "file_extension": ".py",
   "mimetype": "text/x-python",
   "name": "python",
   "nbconvert_exporter": "python",
   "pygments_lexer": "ipython3",
   "version": "3.9.7"
  }
 },
 "nbformat": 4,
 "nbformat_minor": 5
}
